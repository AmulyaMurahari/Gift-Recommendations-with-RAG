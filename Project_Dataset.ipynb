{
  "nbformat": 4,
  "nbformat_minor": 0,
  "metadata": {
    "colab": {
      "provenance": []
    },
    "kernelspec": {
      "name": "python3",
      "display_name": "Python 3"
    },
    "language_info": {
      "name": "python"
    }
  },
  "cells": [
    {
      "cell_type": "code",
      "execution_count": 1,
      "metadata": {
        "colab": {
          "base_uri": "https://localhost:8080/"
        },
        "id": "jq1uccvsZ436",
        "outputId": "e4a9d722-f2af-4874-d4ea-41805b65d0dd"
      },
      "outputs": [
        {
          "output_type": "stream",
          "name": "stdout",
          "text": [
            "Null values count per column:\n",
            "Unnamed: 0             0\n",
            "name                   0\n",
            "main_category          0\n",
            "sub_category           0\n",
            "image                  0\n",
            "link                   0\n",
            "ratings           175794\n",
            "no_of_ratings     175794\n",
            "discount_price     61163\n",
            "actual_price       17813\n",
            "dtype: int64\n",
            "Total number of rows:\n",
            "551585\n"
          ]
        }
      ],
      "source": [
        "import pandas as pd\n",
        "\n",
        "def count_null_values(file_path):\n",
        "    # Load the CSV file into a DataFrame\n",
        "    df = pd.read_csv(file_path)\n",
        "\n",
        "    # Count null values in each column\n",
        "    null_counts = df.isnull().sum()\n",
        "\n",
        "    # Display the null counts\n",
        "    print(\"Null values count per column:\")\n",
        "    print(null_counts)\n",
        "\n",
        "    total_rows = len(df)\n",
        "\n",
        "    # Display the total row count\n",
        "    print(\"Total number of rows:\")\n",
        "    print(total_rows)\n",
        "\n",
        "# Example usage\n",
        "input_file = 'amazon.csv'  # Replace with your actual input file path\n",
        "count_null_values(input_file)"
      ]
    },
    {
      "cell_type": "code",
      "source": [
        "import pandas as pd\n",
        "\n",
        "def clean_data(file_path, output_file_path):\n",
        "    # Load the CSV file\n",
        "    df = pd.read_csv(file_path)\n",
        "\n",
        "    # Drop rows with any missing values\n",
        "    df.dropna(inplace=True)\n",
        "\n",
        "    # Remove duplicate rows\n",
        "    df.drop_duplicates(inplace=True)\n",
        "\n",
        "    # Optional: Reset index after dropping rows\n",
        "    df.reset_index(drop=True, inplace=True)\n",
        "\n",
        "    # Save the cleaned data to a new CSV file\n",
        "    df.to_csv(output_file_path, index=False)\n",
        "    print(f\"Data cleaned and saved to {output_file_path}\")\n",
        "\n",
        "# Example usage\n",
        "input_file = 'amazon.csv'  # Replace with your actual input file path\n",
        "output_file = 'cleaned_amazon.csv'  # Path to save the cleaned data\n",
        "clean_data(input_file, output_file)\n"
      ],
      "metadata": {
        "colab": {
          "base_uri": "https://localhost:8080/"
        },
        "id": "3qE6cOl1bNhz",
        "outputId": "c2f68216-3392-4bb3-d569-cc1f2be2702a"
      },
      "execution_count": 2,
      "outputs": [
        {
          "output_type": "stream",
          "name": "stdout",
          "text": [
            "Data cleaned and saved to cleaned_amazon.csv\n"
          ]
        }
      ]
    },
    {
      "cell_type": "code",
      "source": [
        "import pandas as pd\n",
        "\n",
        "def count_null_values(file_path):\n",
        "    # Load the CSV file into a DataFrame\n",
        "    df = pd.read_csv(file_path)\n",
        "\n",
        "    # Count null values in each column\n",
        "    null_counts = df.isnull().sum()\n",
        "\n",
        "    # Display the null counts\n",
        "    print(\"Null values count per column:\")\n",
        "    print(null_counts)\n",
        "\n",
        "    total_rows = len(df)\n",
        "\n",
        "    # Display the total row count\n",
        "    print(\"Total number of rows:\")\n",
        "    print(total_rows)\n",
        "\n",
        "# Example usage\n",
        "input_file = 'cleaned_amazon.csv'  # Replace with your actual input file path\n",
        "count_null_values(input_file)"
      ],
      "metadata": {
        "colab": {
          "base_uri": "https://localhost:8080/"
        },
        "id": "bZU_srMObYFY",
        "outputId": "53dea765-33fe-4872-d1e4-b5b9c3da0e0a"
      },
      "execution_count": 3,
      "outputs": [
        {
          "output_type": "stream",
          "name": "stdout",
          "text": [
            "Null values count per column:\n",
            "Unnamed: 0        0\n",
            "name              0\n",
            "main_category     0\n",
            "sub_category      0\n",
            "image             0\n",
            "link              0\n",
            "ratings           0\n",
            "no_of_ratings     0\n",
            "discount_price    0\n",
            "actual_price      0\n",
            "dtype: int64\n",
            "Total number of rows:\n",
            "340680\n"
          ]
        }
      ]
    },
    {
      "cell_type": "code",
      "source": [
        "import pandas as pd\n",
        "import numpy as np\n"
      ],
      "metadata": {
        "id": "uiZFHBArb6nk"
      },
      "execution_count": 4,
      "outputs": []
    },
    {
      "cell_type": "code",
      "source": [
        "df = pd.read_csv('cleaned_amazon.csv')"
      ],
      "metadata": {
        "id": "JkQLae9vb-9Z"
      },
      "execution_count": 5,
      "outputs": []
    },
    {
      "cell_type": "code",
      "source": [
        "print(df.columns)"
      ],
      "metadata": {
        "colab": {
          "base_uri": "https://localhost:8080/"
        },
        "id": "JhqLsYp4dHvP",
        "outputId": "b1ec1a4e-c996-4242-c68e-3ffae6a73f8b"
      },
      "execution_count": 6,
      "outputs": [
        {
          "output_type": "stream",
          "name": "stdout",
          "text": [
            "Index(['Unnamed: 0', 'name', 'main_category', 'sub_category', 'image', 'link',\n",
            "       'ratings', 'no_of_ratings', 'discount_price', 'actual_price'],\n",
            "      dtype='object')\n"
          ]
        }
      ]
    },
    {
      "cell_type": "code",
      "source": [
        "df['Age'] = np.random.randint(18, 70, size=df.shape[0])\n",
        "genders = ['Male', 'Female']\n",
        "df['Gender'] = np.random.choice(genders, size=df.shape[0])\n",
        "occasions = ['Anniversery', 'Birthday', 'Baby & Expecting', 'Diwali', 'Mothers Day',\n",
        " 'Friendshipday', 'Christmas', 'New Year', 'Chrismas', 'Navaratri',\n",
        " 'Raksha Bandan', \"Father's Day\", 'Friendship', 'Friendship day', 'New year',\n",
        " 'Raksha Bandhan', 'Fathers Day', 'Friendship Day']\n",
        "df['Occasion'] = np.random.choice(occasions, size=df.shape[0])"
      ],
      "metadata": {
        "id": "duYYdp77dcCM"
      },
      "execution_count": 7,
      "outputs": []
    },
    {
      "cell_type": "code",
      "source": [
        "print(df[['Age', 'Gender', 'Occasion']])"
      ],
      "metadata": {
        "colab": {
          "base_uri": "https://localhost:8080/"
        },
        "id": "d_DwCUE5dgha",
        "outputId": "84e47442-1036-4a51-d1a5-5a05ac079608"
      },
      "execution_count": 8,
      "outputs": [
        {
          "output_type": "stream",
          "name": "stdout",
          "text": [
            "        Age  Gender        Occasion\n",
            "0        20  Female   Friendshipday\n",
            "1        54  Female     Fathers Day\n",
            "2        27  Female       Navaratri\n",
            "3        56  Female  Raksha Bandhan\n",
            "4        22  Female     Anniversery\n",
            "...     ...     ...             ...\n",
            "340675   25  Female  Friendship day\n",
            "340676   27  Female       Christmas\n",
            "340677   50    Male       Christmas\n",
            "340678   60    Male          Diwali\n",
            "340679   29    Male        New Year\n",
            "\n",
            "[340680 rows x 3 columns]\n"
          ]
        }
      ]
    },
    {
      "cell_type": "code",
      "source": [
        "def assign_relationship(row):\n",
        "    if row['Gender'] == 'Female':\n",
        "        return np.random.choice(['Wife', 'Sister', 'Daughter', 'Mother', 'For Her', 'wife'])\n",
        "    elif row['Gender'] == 'Male':\n",
        "        return np.random.choice(['Brother', 'Father', 'Son', 'For Him', 'Husband'])\n",
        "    else:\n",
        "        # Randomly assign male or female attributes to gender-neutral roles\n",
        "        neutral_roles = ['Kids', 'Friend', 'Boss', 'Colleague']\n",
        "        # Extend the choice to include gender indication\n",
        "        role = np.random.choice(neutral_roles)\n",
        "        role_gender = np.random.choice(['Male', 'Female'])\n",
        "        return f\"{role} ({role_gender})\"\n",
        "\n",
        "# Apply function to each row\n",
        "df['Relationship'] = df.apply(assign_relationship, axis=1)"
      ],
      "metadata": {
        "id": "TMjoK3lSdmF8"
      },
      "execution_count": 9,
      "outputs": []
    },
    {
      "cell_type": "code",
      "source": [
        "def assign_occasion(row):\n",
        "    if row['Relationship'] in ['Wife', 'Husband']:\n",
        "        return 'Anniversary'\n",
        "    elif row['Relationship'] == 'Mother':\n",
        "        return \"Mother's Day\"\n",
        "    elif row['Relationship'] == 'Father':\n",
        "        return \"Father's Day\"\n",
        "    elif row['Relationship'] in ['Brother', 'Sister']:\n",
        "        return 'Raksha Bandhan'\n",
        "    else:\n",
        "        # Assign random occasions to other relationships\n",
        "        return np.random.choice(['Birthday', 'Graduation', 'Wedding', 'Retirement'])\n",
        "\n",
        "df['Occasion'] = df.apply(assign_occasion, axis=1)"
      ],
      "metadata": {
        "id": "GjG9mB3Idv_S"
      },
      "execution_count": 10,
      "outputs": []
    },
    {
      "cell_type": "code",
      "source": [
        "print(df[['Relationship', 'Gender', 'Occasion']])"
      ],
      "metadata": {
        "colab": {
          "base_uri": "https://localhost:8080/"
        },
        "id": "rWMzePFLd03g",
        "outputId": "12a15011-1872-4a6d-cd87-15daa09106d8"
      },
      "execution_count": 11,
      "outputs": [
        {
          "output_type": "stream",
          "name": "stdout",
          "text": [
            "       Relationship  Gender        Occasion\n",
            "0              wife  Female      Graduation\n",
            "1           For Her  Female      Graduation\n",
            "2            Sister  Female  Raksha Bandhan\n",
            "3              wife  Female        Birthday\n",
            "4              Wife  Female     Anniversary\n",
            "...             ...     ...             ...\n",
            "340675       Sister  Female  Raksha Bandhan\n",
            "340676     Daughter  Female         Wedding\n",
            "340677      Husband    Male     Anniversary\n",
            "340678      Brother    Male  Raksha Bandhan\n",
            "340679      Brother    Male  Raksha Bandhan\n",
            "\n",
            "[340680 rows x 3 columns]\n"
          ]
        }
      ]
    },
    {
      "cell_type": "code",
      "source": [
        "df.to_csv('updated_dataset.csv', index=False)"
      ],
      "metadata": {
        "id": "MCCRTFBjecRq"
      },
      "execution_count": 12,
      "outputs": []
    },
    {
      "cell_type": "code",
      "source": [
        "print(df.head())"
      ],
      "metadata": {
        "colab": {
          "base_uri": "https://localhost:8080/"
        },
        "id": "3_0Y87MpekOy",
        "outputId": "dbc43780-dbc4-4174-e65a-27a8f7c5abca"
      },
      "execution_count": 13,
      "outputs": [
        {
          "output_type": "stream",
          "name": "stdout",
          "text": [
            "   Unnamed: 0                                               name  \\\n",
            "0           0  Lloyd 1.5 Ton 3 Star Inverter Split Ac (5 In 1...   \n",
            "1           1  LG 1.5 Ton 5 Star AI DUAL Inverter Split AC (C...   \n",
            "2           2  LG 1 Ton 4 Star Ai Dual Inverter Split Ac (Cop...   \n",
            "3           3  LG 1.5 Ton 3 Star AI DUAL Inverter Split AC (C...   \n",
            "4           4  Carrier 1.5 Ton 3 Star Inverter Split AC (Copp...   \n",
            "\n",
            "  main_category      sub_category  \\\n",
            "0    appliances  Air Conditioners   \n",
            "1    appliances  Air Conditioners   \n",
            "2    appliances  Air Conditioners   \n",
            "3    appliances  Air Conditioners   \n",
            "4    appliances  Air Conditioners   \n",
            "\n",
            "                                               image  \\\n",
            "0  https://m.media-amazon.com/images/I/31UISB90sY...   \n",
            "1  https://m.media-amazon.com/images/I/51JFb7FctD...   \n",
            "2  https://m.media-amazon.com/images/I/51JFb7FctD...   \n",
            "3  https://m.media-amazon.com/images/I/51JFb7FctD...   \n",
            "4  https://m.media-amazon.com/images/I/41lrtqXPiW...   \n",
            "\n",
            "                                                link ratings no_of_ratings  \\\n",
            "0  https://www.amazon.in/Lloyd-Inverter-Convertib...     4.2         2,255   \n",
            "1  https://www.amazon.in/LG-Convertible-Anti-Viru...     4.2         2,948   \n",
            "2  https://www.amazon.in/LG-Inverter-Convertible-...     4.2         1,206   \n",
            "3  https://www.amazon.in/LG-Convertible-Anti-Viru...     4.0            69   \n",
            "4  https://www.amazon.in/Carrier-Inverter-Split-C...     4.1           630   \n",
            "\n",
            "  discount_price actual_price  Age  Gender        Occasion Relationship  \n",
            "0        ₹32,999      ₹58,990   20  Female      Graduation         wife  \n",
            "1        ₹46,490      ₹75,990   54  Female      Graduation      For Her  \n",
            "2        ₹34,490      ₹61,990   27  Female  Raksha Bandhan       Sister  \n",
            "3        ₹37,990      ₹68,990   56  Female        Birthday         wife  \n",
            "4        ₹34,490      ₹67,790   22  Female     Anniversary         Wife  \n"
          ]
        }
      ]
    },
    {
      "cell_type": "code",
      "source": [
        "import pandas as pd\n",
        "\n",
        "\n",
        "df = pd.read_csv('updated_dataset.csv')\n",
        "\n",
        "df.replace({'₹': ''}, regex=True, inplace=True)\n",
        "\n",
        "df.to_csv('cleaned_amazon_data.csv', index=False)"
      ],
      "metadata": {
        "id": "mCV4Pzbjex8H"
      },
      "execution_count": 14,
      "outputs": []
    },
    {
      "cell_type": "code",
      "source": [
        "df = pd.read_csv('cleaned_amazon_data.csv')\n",
        "\n",
        "print(df.head())"
      ],
      "metadata": {
        "colab": {
          "base_uri": "https://localhost:8080/"
        },
        "id": "mW_5a5CLe_AV",
        "outputId": "20771908-1c86-4756-ce54-06e3d8fffbbc"
      },
      "execution_count": 15,
      "outputs": [
        {
          "output_type": "stream",
          "name": "stdout",
          "text": [
            "   Unnamed: 0                                               name  \\\n",
            "0           0  Lloyd 1.5 Ton 3 Star Inverter Split Ac (5 In 1...   \n",
            "1           1  LG 1.5 Ton 5 Star AI DUAL Inverter Split AC (C...   \n",
            "2           2  LG 1 Ton 4 Star Ai Dual Inverter Split Ac (Cop...   \n",
            "3           3  LG 1.5 Ton 3 Star AI DUAL Inverter Split AC (C...   \n",
            "4           4  Carrier 1.5 Ton 3 Star Inverter Split AC (Copp...   \n",
            "\n",
            "  main_category      sub_category  \\\n",
            "0    appliances  Air Conditioners   \n",
            "1    appliances  Air Conditioners   \n",
            "2    appliances  Air Conditioners   \n",
            "3    appliances  Air Conditioners   \n",
            "4    appliances  Air Conditioners   \n",
            "\n",
            "                                               image  \\\n",
            "0  https://m.media-amazon.com/images/I/31UISB90sY...   \n",
            "1  https://m.media-amazon.com/images/I/51JFb7FctD...   \n",
            "2  https://m.media-amazon.com/images/I/51JFb7FctD...   \n",
            "3  https://m.media-amazon.com/images/I/51JFb7FctD...   \n",
            "4  https://m.media-amazon.com/images/I/41lrtqXPiW...   \n",
            "\n",
            "                                                link ratings no_of_ratings  \\\n",
            "0  https://www.amazon.in/Lloyd-Inverter-Convertib...     4.2         2,255   \n",
            "1  https://www.amazon.in/LG-Convertible-Anti-Viru...     4.2         2,948   \n",
            "2  https://www.amazon.in/LG-Inverter-Convertible-...     4.2         1,206   \n",
            "3  https://www.amazon.in/LG-Convertible-Anti-Viru...     4.0            69   \n",
            "4  https://www.amazon.in/Carrier-Inverter-Split-C...     4.1           630   \n",
            "\n",
            "  discount_price actual_price  Age  Gender        Occasion Relationship  \n",
            "0         32,999       58,990   20  Female      Graduation         wife  \n",
            "1         46,490       75,990   54  Female      Graduation      For Her  \n",
            "2         34,490       61,990   27  Female  Raksha Bandhan       Sister  \n",
            "3         37,990       68,990   56  Female        Birthday         wife  \n",
            "4         34,490       67,790   22  Female     Anniversary         Wife  \n"
          ]
        }
      ]
    },
    {
      "cell_type": "code",
      "source": [
        "import pandas as pd\n",
        "\n",
        "conversion_rate = 83\n",
        "\n",
        "df = pd.read_csv('cleaned_amazon_data.csv')\n",
        "\n",
        "df['discount_price'] = df['discount_price'].replace({'₹': '', ',': ''}, regex=True).astype(float)\n",
        "df['actual_price'] = df['actual_price'].replace({'₹': '', ',': ''}, regex=True).astype(float)\n",
        "\n",
        "df['discount_price'] = df['discount_price'] / conversion_rate\n",
        "df['actual_price'] = df['actual_price'] / conversion_rate\n",
        "\n",
        "df.to_csv('converted_amazon_data.csv', index=False)\n"
      ],
      "metadata": {
        "id": "IUb_8plzfJgf"
      },
      "execution_count": 16,
      "outputs": []
    },
    {
      "cell_type": "code",
      "source": [
        "df = pd.read_csv('converted_amazon_data.csv')\n",
        "\n",
        "print(df.head())"
      ],
      "metadata": {
        "colab": {
          "base_uri": "https://localhost:8080/"
        },
        "id": "XACHIACRfW-b",
        "outputId": "d8a87af3-bda3-4510-a5f0-ab8ff244c76f"
      },
      "execution_count": 17,
      "outputs": [
        {
          "output_type": "stream",
          "name": "stdout",
          "text": [
            "   Unnamed: 0                                               name  \\\n",
            "0           0  Lloyd 1.5 Ton 3 Star Inverter Split Ac (5 In 1...   \n",
            "1           1  LG 1.5 Ton 5 Star AI DUAL Inverter Split AC (C...   \n",
            "2           2  LG 1 Ton 4 Star Ai Dual Inverter Split Ac (Cop...   \n",
            "3           3  LG 1.5 Ton 3 Star AI DUAL Inverter Split AC (C...   \n",
            "4           4  Carrier 1.5 Ton 3 Star Inverter Split AC (Copp...   \n",
            "\n",
            "  main_category      sub_category  \\\n",
            "0    appliances  Air Conditioners   \n",
            "1    appliances  Air Conditioners   \n",
            "2    appliances  Air Conditioners   \n",
            "3    appliances  Air Conditioners   \n",
            "4    appliances  Air Conditioners   \n",
            "\n",
            "                                               image  \\\n",
            "0  https://m.media-amazon.com/images/I/31UISB90sY...   \n",
            "1  https://m.media-amazon.com/images/I/51JFb7FctD...   \n",
            "2  https://m.media-amazon.com/images/I/51JFb7FctD...   \n",
            "3  https://m.media-amazon.com/images/I/51JFb7FctD...   \n",
            "4  https://m.media-amazon.com/images/I/41lrtqXPiW...   \n",
            "\n",
            "                                                link ratings no_of_ratings  \\\n",
            "0  https://www.amazon.in/Lloyd-Inverter-Convertib...     4.2         2,255   \n",
            "1  https://www.amazon.in/LG-Convertible-Anti-Viru...     4.2         2,948   \n",
            "2  https://www.amazon.in/LG-Inverter-Convertible-...     4.2         1,206   \n",
            "3  https://www.amazon.in/LG-Convertible-Anti-Viru...     4.0            69   \n",
            "4  https://www.amazon.in/Carrier-Inverter-Split-C...     4.1           630   \n",
            "\n",
            "   discount_price  actual_price  Age  Gender        Occasion Relationship  \n",
            "0      397.578313    710.722892   20  Female      Graduation         wife  \n",
            "1      560.120482    915.542169   54  Female      Graduation      For Her  \n",
            "2      415.542169    746.867470   27  Female  Raksha Bandhan       Sister  \n",
            "3      457.710843    831.204819   56  Female        Birthday         wife  \n",
            "4      415.542169    816.746988   22  Female     Anniversary         Wife  \n"
          ]
        }
      ]
    },
    {
      "cell_type": "code",
      "source": [
        "import pandas as pd\n",
        "\n",
        "df = pd.read_csv('converted_amazon_data.csv')\n",
        "\n",
        "df['discount_price'] = df['discount_price'].round()\n",
        "df['actual_price'] = df['actual_price'].round()\n",
        "\n",
        "df.to_csv('rounded_amazon_data.csv', index=False)\n",
        "\n",
        "print(df.head())\n"
      ],
      "metadata": {
        "colab": {
          "base_uri": "https://localhost:8080/"
        },
        "id": "UhZ3yDU3ffaS",
        "outputId": "0d6b8721-3acb-4a28-9ed8-84899aef370e"
      },
      "execution_count": 18,
      "outputs": [
        {
          "output_type": "stream",
          "name": "stdout",
          "text": [
            "   Unnamed: 0                                               name  \\\n",
            "0           0  Lloyd 1.5 Ton 3 Star Inverter Split Ac (5 In 1...   \n",
            "1           1  LG 1.5 Ton 5 Star AI DUAL Inverter Split AC (C...   \n",
            "2           2  LG 1 Ton 4 Star Ai Dual Inverter Split Ac (Cop...   \n",
            "3           3  LG 1.5 Ton 3 Star AI DUAL Inverter Split AC (C...   \n",
            "4           4  Carrier 1.5 Ton 3 Star Inverter Split AC (Copp...   \n",
            "\n",
            "  main_category      sub_category  \\\n",
            "0    appliances  Air Conditioners   \n",
            "1    appliances  Air Conditioners   \n",
            "2    appliances  Air Conditioners   \n",
            "3    appliances  Air Conditioners   \n",
            "4    appliances  Air Conditioners   \n",
            "\n",
            "                                               image  \\\n",
            "0  https://m.media-amazon.com/images/I/31UISB90sY...   \n",
            "1  https://m.media-amazon.com/images/I/51JFb7FctD...   \n",
            "2  https://m.media-amazon.com/images/I/51JFb7FctD...   \n",
            "3  https://m.media-amazon.com/images/I/51JFb7FctD...   \n",
            "4  https://m.media-amazon.com/images/I/41lrtqXPiW...   \n",
            "\n",
            "                                                link ratings no_of_ratings  \\\n",
            "0  https://www.amazon.in/Lloyd-Inverter-Convertib...     4.2         2,255   \n",
            "1  https://www.amazon.in/LG-Convertible-Anti-Viru...     4.2         2,948   \n",
            "2  https://www.amazon.in/LG-Inverter-Convertible-...     4.2         1,206   \n",
            "3  https://www.amazon.in/LG-Convertible-Anti-Viru...     4.0            69   \n",
            "4  https://www.amazon.in/Carrier-Inverter-Split-C...     4.1           630   \n",
            "\n",
            "   discount_price  actual_price  Age  Gender        Occasion Relationship  \n",
            "0           398.0         711.0   20  Female      Graduation         wife  \n",
            "1           560.0         916.0   54  Female      Graduation      For Her  \n",
            "2           416.0         747.0   27  Female  Raksha Bandhan       Sister  \n",
            "3           458.0         831.0   56  Female        Birthday         wife  \n",
            "4           416.0         817.0   22  Female     Anniversary         Wife  \n"
          ]
        }
      ]
    },
    {
      "cell_type": "code",
      "source": [
        "import pandas as pd\n",
        "\n",
        "# Load your dataset\n",
        "df = pd.read_csv('rounded_amazon_data.csv')  # replace 'path_to_your_file.csv' with the path to your dataset\n",
        "\n",
        "# Get unique values from the 'relationship' column\n",
        "unique_relationships = df['main_category'].unique()\n",
        "\n",
        "# Print unique values\n",
        "print(unique_relationships)"
      ],
      "metadata": {
        "colab": {
          "base_uri": "https://localhost:8080/"
        },
        "id": "JiaaNBiwfo_W",
        "outputId": "7250bee5-4b70-4cd2-a0a3-0ff165d86fa4"
      },
      "execution_count": 19,
      "outputs": [
        {
          "output_type": "stream",
          "name": "stdout",
          "text": [
            "['appliances' 'car & motorbike' 'tv, audio & cameras' 'sports & fitness'\n",
            " 'grocery & gourmet foods' 'home & kitchen' 'pet supplies' 'stores'\n",
            " 'toys & baby products' \"kids' fashion\" 'bags & luggage' 'accessories'\n",
            " \"women's shoes\" 'beauty & health' \"men's shoes\" \"women's clothing\"\n",
            " 'industrial supplies' \"men's clothing\" 'music' 'home, kitchen, pets']\n"
          ]
        }
      ]
    },
    {
      "cell_type": "code",
      "source": [
        "import pandas as pd\n",
        "\n",
        "df = pd.read_csv('rounded_amazon_data.csv')\n",
        "\n",
        "category_gender_map = {\n",
        "    \"women's shoes\": 'Female',\n",
        "    \"women's clothing\": 'Female',\n",
        "    \"men's shoes\": 'Male',\n",
        "    \"men's clothing\": 'Male'\n",
        "}\n",
        "\n",
        "\n",
        "df['Gender'] = df['main_category'].map(category_gender_map).fillna(df['Gender'])\n",
        "\n",
        "\n",
        "df.loc[(df['main_category'] == 'stores') & (df['sub_category'] == \"Men's Fashion\"), 'Gender'] = 'Male'\n",
        "\n",
        "\n",
        "print(df[['main_category', 'sub_category', 'Gender']].head())\n",
        "\n",
        "\n",
        "df.to_csv('updated_amazon_data.csv', index=False)\n"
      ],
      "metadata": {
        "colab": {
          "base_uri": "https://localhost:8080/"
        },
        "id": "qb2urdh7f6wT",
        "outputId": "f6305389-55c9-4992-ec79-0f226a49df71"
      },
      "execution_count": 20,
      "outputs": [
        {
          "output_type": "stream",
          "name": "stdout",
          "text": [
            "  main_category      sub_category  Gender\n",
            "0    appliances  Air Conditioners  Female\n",
            "1    appliances  Air Conditioners  Female\n",
            "2    appliances  Air Conditioners  Female\n",
            "3    appliances  Air Conditioners  Female\n",
            "4    appliances  Air Conditioners  Female\n"
          ]
        }
      ]
    },
    {
      "cell_type": "code",
      "source": [
        "print(df.head())"
      ],
      "metadata": {
        "colab": {
          "base_uri": "https://localhost:8080/"
        },
        "id": "umi_ldk8gFRd",
        "outputId": "7e53aa2f-2cf8-4471-8651-57d2dcdf4726"
      },
      "execution_count": 21,
      "outputs": [
        {
          "output_type": "stream",
          "name": "stdout",
          "text": [
            "   Unnamed: 0                                               name  \\\n",
            "0           0  Lloyd 1.5 Ton 3 Star Inverter Split Ac (5 In 1...   \n",
            "1           1  LG 1.5 Ton 5 Star AI DUAL Inverter Split AC (C...   \n",
            "2           2  LG 1 Ton 4 Star Ai Dual Inverter Split Ac (Cop...   \n",
            "3           3  LG 1.5 Ton 3 Star AI DUAL Inverter Split AC (C...   \n",
            "4           4  Carrier 1.5 Ton 3 Star Inverter Split AC (Copp...   \n",
            "\n",
            "  main_category      sub_category  \\\n",
            "0    appliances  Air Conditioners   \n",
            "1    appliances  Air Conditioners   \n",
            "2    appliances  Air Conditioners   \n",
            "3    appliances  Air Conditioners   \n",
            "4    appliances  Air Conditioners   \n",
            "\n",
            "                                               image  \\\n",
            "0  https://m.media-amazon.com/images/I/31UISB90sY...   \n",
            "1  https://m.media-amazon.com/images/I/51JFb7FctD...   \n",
            "2  https://m.media-amazon.com/images/I/51JFb7FctD...   \n",
            "3  https://m.media-amazon.com/images/I/51JFb7FctD...   \n",
            "4  https://m.media-amazon.com/images/I/41lrtqXPiW...   \n",
            "\n",
            "                                                link ratings no_of_ratings  \\\n",
            "0  https://www.amazon.in/Lloyd-Inverter-Convertib...     4.2         2,255   \n",
            "1  https://www.amazon.in/LG-Convertible-Anti-Viru...     4.2         2,948   \n",
            "2  https://www.amazon.in/LG-Inverter-Convertible-...     4.2         1,206   \n",
            "3  https://www.amazon.in/LG-Convertible-Anti-Viru...     4.0            69   \n",
            "4  https://www.amazon.in/Carrier-Inverter-Split-C...     4.1           630   \n",
            "\n",
            "   discount_price  actual_price  Age  Gender        Occasion Relationship  \n",
            "0           398.0         711.0   20  Female      Graduation         wife  \n",
            "1           560.0         916.0   54  Female      Graduation      For Her  \n",
            "2           416.0         747.0   27  Female  Raksha Bandhan       Sister  \n",
            "3           458.0         831.0   56  Female        Birthday         wife  \n",
            "4           416.0         817.0   22  Female     Anniversary         Wife  \n"
          ]
        }
      ]
    },
    {
      "cell_type": "code",
      "source": [
        "import numpy as np\n",
        "import pandas as pd\n",
        "\n",
        "def assign_relationship(row):\n",
        "    if row['Gender'] == 'Female':\n",
        "        return np.random.choice(['Wife', 'Sister', 'Daughter', 'Mother', 'For Her', 'Wife'])\n",
        "    elif row['Gender'] == 'Male':\n",
        "        return np.random.choice(['Brother', 'Father', 'Son', 'For Him', 'Husband'])\n",
        "    else:\n",
        "        neutral_roles = ['Kids', 'Friend', 'Boss', 'Colleague']\n",
        "        role = np.random.choice(neutral_roles)\n",
        "        role_gender = np.random.choice(['Male', 'Female'])\n",
        "        return f\"{role} ({role_gender})\"\n",
        "\n",
        "df['Relationship'] = df.apply(assign_relationship, axis=1)\n",
        "\n",
        "df.to_csv('relationship_updated_amazon_data.csv', index=False)\n",
        "\n",
        "print(df[['main_category', 'sub_category', 'Gender', 'Relationship']].head())\n"
      ],
      "metadata": {
        "colab": {
          "base_uri": "https://localhost:8080/"
        },
        "id": "rkZzWFgjgKjf",
        "outputId": "642f1abb-ef15-47e1-97a4-1f02bce9133f"
      },
      "execution_count": 22,
      "outputs": [
        {
          "output_type": "stream",
          "name": "stdout",
          "text": [
            "  main_category      sub_category  Gender Relationship\n",
            "0    appliances  Air Conditioners  Female         Wife\n",
            "1    appliances  Air Conditioners  Female         Wife\n",
            "2    appliances  Air Conditioners  Female         Wife\n",
            "3    appliances  Air Conditioners  Female       Sister\n",
            "4    appliances  Air Conditioners  Female     Daughter\n"
          ]
        }
      ]
    },
    {
      "cell_type": "code",
      "source": [
        "df = pd.read_csv('relationship_updated_amazon_data.csv')\n",
        "\n",
        "print(df.head())"
      ],
      "metadata": {
        "colab": {
          "base_uri": "https://localhost:8080/"
        },
        "id": "YpCspe3PgbBI",
        "outputId": "225b7a59-8abc-4b04-81f8-3047fd6b85db"
      },
      "execution_count": 23,
      "outputs": [
        {
          "output_type": "stream",
          "name": "stdout",
          "text": [
            "   Unnamed: 0                                               name  \\\n",
            "0           0  Lloyd 1.5 Ton 3 Star Inverter Split Ac (5 In 1...   \n",
            "1           1  LG 1.5 Ton 5 Star AI DUAL Inverter Split AC (C...   \n",
            "2           2  LG 1 Ton 4 Star Ai Dual Inverter Split Ac (Cop...   \n",
            "3           3  LG 1.5 Ton 3 Star AI DUAL Inverter Split AC (C...   \n",
            "4           4  Carrier 1.5 Ton 3 Star Inverter Split AC (Copp...   \n",
            "\n",
            "  main_category      sub_category  \\\n",
            "0    appliances  Air Conditioners   \n",
            "1    appliances  Air Conditioners   \n",
            "2    appliances  Air Conditioners   \n",
            "3    appliances  Air Conditioners   \n",
            "4    appliances  Air Conditioners   \n",
            "\n",
            "                                               image  \\\n",
            "0  https://m.media-amazon.com/images/I/31UISB90sY...   \n",
            "1  https://m.media-amazon.com/images/I/51JFb7FctD...   \n",
            "2  https://m.media-amazon.com/images/I/51JFb7FctD...   \n",
            "3  https://m.media-amazon.com/images/I/51JFb7FctD...   \n",
            "4  https://m.media-amazon.com/images/I/41lrtqXPiW...   \n",
            "\n",
            "                                                link ratings no_of_ratings  \\\n",
            "0  https://www.amazon.in/Lloyd-Inverter-Convertib...     4.2         2,255   \n",
            "1  https://www.amazon.in/LG-Convertible-Anti-Viru...     4.2         2,948   \n",
            "2  https://www.amazon.in/LG-Inverter-Convertible-...     4.2         1,206   \n",
            "3  https://www.amazon.in/LG-Convertible-Anti-Viru...     4.0            69   \n",
            "4  https://www.amazon.in/Carrier-Inverter-Split-C...     4.1           630   \n",
            "\n",
            "   discount_price  actual_price  Age  Gender        Occasion Relationship  \n",
            "0           398.0         711.0   20  Female      Graduation         Wife  \n",
            "1           560.0         916.0   54  Female      Graduation         Wife  \n",
            "2           416.0         747.0   27  Female  Raksha Bandhan         Wife  \n",
            "3           458.0         831.0   56  Female        Birthday       Sister  \n",
            "4           416.0         817.0   22  Female     Anniversary     Daughter  \n"
          ]
        }
      ]
    },
    {
      "cell_type": "code",
      "source": [
        "import numpy as np\n",
        "import pandas as pd\n",
        "\n",
        "def assign_occasion(row):\n",
        "    if row['Relationship'] in ['Wife', 'Husband']:\n",
        "        return 'Anniversary'\n",
        "    elif row['Relationship'] == 'Mother':\n",
        "        return \"Mother's Day\"\n",
        "    elif row['Relationship'] == 'Father':\n",
        "        return \"Father's Day\"\n",
        "    elif row['Relationship'] in ['Brother', 'Sister']:\n",
        "        return 'Raksha Bandhan'\n",
        "    else:\n",
        "        return np.random.choice(['Birthday', 'Graduation', 'Wedding', 'Retirement'])\n",
        "\n",
        "# Apply the function to each row\n",
        "df['Occasion'] = df.apply(assign_occasion, axis=1)\n",
        "\n",
        "# Save the updated DataFrame to a new CSV file\n",
        "df.to_csv('occasion_updated_amazon_data.csv', index=False)\n",
        "\n",
        "# Display the updated DataFrame with the new 'occasion' column\n",
        "print(df[['Relationship', 'Occasion']].head())\n"
      ],
      "metadata": {
        "colab": {
          "base_uri": "https://localhost:8080/"
        },
        "id": "yQNwI-VIgkf4",
        "outputId": "3b168776-3aad-4a38-8311-538d505a1b56"
      },
      "execution_count": 24,
      "outputs": [
        {
          "output_type": "stream",
          "name": "stdout",
          "text": [
            "  Relationship        Occasion\n",
            "0         Wife     Anniversary\n",
            "1         Wife     Anniversary\n",
            "2         Wife     Anniversary\n",
            "3       Sister  Raksha Bandhan\n",
            "4     Daughter      Graduation\n"
          ]
        }
      ]
    },
    {
      "cell_type": "code",
      "source": [
        "df = pd.read_csv('occasion_updated_amazon_data.csv')\n",
        "\n",
        "print(df.head())"
      ],
      "metadata": {
        "colab": {
          "base_uri": "https://localhost:8080/"
        },
        "id": "dP42WGJzguR9",
        "outputId": "887710b9-6699-4a8a-c770-d7e9e8ee5212"
      },
      "execution_count": 25,
      "outputs": [
        {
          "output_type": "stream",
          "name": "stdout",
          "text": [
            "   Unnamed: 0                                               name  \\\n",
            "0           0  Lloyd 1.5 Ton 3 Star Inverter Split Ac (5 In 1...   \n",
            "1           1  LG 1.5 Ton 5 Star AI DUAL Inverter Split AC (C...   \n",
            "2           2  LG 1 Ton 4 Star Ai Dual Inverter Split Ac (Cop...   \n",
            "3           3  LG 1.5 Ton 3 Star AI DUAL Inverter Split AC (C...   \n",
            "4           4  Carrier 1.5 Ton 3 Star Inverter Split AC (Copp...   \n",
            "\n",
            "  main_category      sub_category  \\\n",
            "0    appliances  Air Conditioners   \n",
            "1    appliances  Air Conditioners   \n",
            "2    appliances  Air Conditioners   \n",
            "3    appliances  Air Conditioners   \n",
            "4    appliances  Air Conditioners   \n",
            "\n",
            "                                               image  \\\n",
            "0  https://m.media-amazon.com/images/I/31UISB90sY...   \n",
            "1  https://m.media-amazon.com/images/I/51JFb7FctD...   \n",
            "2  https://m.media-amazon.com/images/I/51JFb7FctD...   \n",
            "3  https://m.media-amazon.com/images/I/51JFb7FctD...   \n",
            "4  https://m.media-amazon.com/images/I/41lrtqXPiW...   \n",
            "\n",
            "                                                link ratings no_of_ratings  \\\n",
            "0  https://www.amazon.in/Lloyd-Inverter-Convertib...     4.2         2,255   \n",
            "1  https://www.amazon.in/LG-Convertible-Anti-Viru...     4.2         2,948   \n",
            "2  https://www.amazon.in/LG-Inverter-Convertible-...     4.2         1,206   \n",
            "3  https://www.amazon.in/LG-Convertible-Anti-Viru...     4.0            69   \n",
            "4  https://www.amazon.in/Carrier-Inverter-Split-C...     4.1           630   \n",
            "\n",
            "   discount_price  actual_price  Age  Gender        Occasion Relationship  \n",
            "0           398.0         711.0   20  Female     Anniversary         Wife  \n",
            "1           560.0         916.0   54  Female     Anniversary         Wife  \n",
            "2           416.0         747.0   27  Female     Anniversary         Wife  \n",
            "3           458.0         831.0   56  Female  Raksha Bandhan       Sister  \n",
            "4           416.0         817.0   22  Female      Graduation     Daughter  \n"
          ]
        }
      ]
    }
  ]
}